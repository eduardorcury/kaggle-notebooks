{
 "cells": [
  {
   "cell_type": "code",
   "execution_count": 1,
   "id": "89ff00cd",
   "metadata": {
    "_cell_guid": "b1076dfc-b9ad-4769-8c92-a6c4dae69d19",
    "_uuid": "8f2839f25d086af736a60e9eeb907d3b93b6e0e5",
    "execution": {
     "iopub.execute_input": "2024-09-29T22:07:55.735963Z",
     "iopub.status.busy": "2024-09-29T22:07:55.735492Z",
     "iopub.status.idle": "2024-09-29T22:07:56.592063Z",
     "shell.execute_reply": "2024-09-29T22:07:56.590917Z"
    },
    "papermill": {
     "duration": 0.868274,
     "end_time": "2024-09-29T22:07:56.594968",
     "exception": false,
     "start_time": "2024-09-29T22:07:55.726694",
     "status": "completed"
    },
    "tags": []
   },
   "outputs": [],
   "source": [
    "# This Python 3 environment comes with many helpful analytics libraries installed\n",
    "# It is defined by the kaggle/python Docker image: https://github.com/kaggle/docker-python\n",
    "# For example, here's several helpful packages to load\n",
    "\n",
    "import numpy as np # linear algebra\n",
    "import pandas as pd # data processing, CSV file I/O (e.g. pd.read_csv)\n",
    "\n",
    "# Input data files are available in the read-only \"../input/\" directory\n",
    "# For example, running this (by clicking run or pressing Shift+Enter) will list all files under the input directory\n",
    "\n",
    "import os\n",
    "for dirname, _, filenames in os.walk('/kaggle/input'):\n",
    "    for filename in filenames:\n",
    "        print(os.path.join(dirname, filename))\n",
    "\n",
    "# You can write up to 20GB to the current directory (/kaggle/working/) that gets preserved as output when you create a version using \"Save & Run All\" \n",
    "# You can also write temporary files to /kaggle/temp/, but they won't be saved outside of the current session"
   ]
  },
  {
   "cell_type": "code",
   "execution_count": 2,
   "id": "762b31e2",
   "metadata": {
    "execution": {
     "iopub.execute_input": "2024-09-29T22:07:56.609114Z",
     "iopub.status.busy": "2024-09-29T22:07:56.608543Z",
     "iopub.status.idle": "2024-09-29T22:07:56.618756Z",
     "shell.execute_reply": "2024-09-29T22:07:56.617683Z"
    },
    "papermill": {
     "duration": 0.019793,
     "end_time": "2024-09-29T22:07:56.621208",
     "exception": false,
     "start_time": "2024-09-29T22:07:56.601415",
     "status": "completed"
    },
    "tags": []
   },
   "outputs": [],
   "source": [
    "np.random.seed(4)\n",
    "m = 60\n",
    "w1, w2 = 0.1, 0.3\n",
    "noise = 0.1\n",
    "\n",
    "angles = np.random.rand(m) * 3 * np.pi / 2 - 0.5\n",
    "X = np.empty((m, 3))\n",
    "X[:, 0] = np.cos(angles) + np.sin(angles)/2 + noise * np.random.randn(m) / 2\n",
    "X[:, 1] = np.sin(angles) * 0.7 + noise * np.random.randn(m) / 2\n",
    "X[:, 2] = X[:, 0] * w1 + X[:, 1] * w2 + noise * np.random.randn(m)"
   ]
  },
  {
   "cell_type": "code",
   "execution_count": 3,
   "id": "853ecc09",
   "metadata": {
    "execution": {
     "iopub.execute_input": "2024-09-29T22:07:56.634847Z",
     "iopub.status.busy": "2024-09-29T22:07:56.634034Z",
     "iopub.status.idle": "2024-09-29T22:07:58.212870Z",
     "shell.execute_reply": "2024-09-29T22:07:58.211540Z"
    },
    "papermill": {
     "duration": 1.588744,
     "end_time": "2024-09-29T22:07:58.215739",
     "exception": false,
     "start_time": "2024-09-29T22:07:56.626995",
     "status": "completed"
    },
    "tags": []
   },
   "outputs": [
    {
     "data": {
      "text/plain": [
       "array([[-0.93636116, -0.29854881, -0.18465208],\n",
       "       [ 0.34027485, -0.90119108, -0.2684542 ]])"
      ]
     },
     "execution_count": 3,
     "metadata": {},
     "output_type": "execute_result"
    }
   ],
   "source": [
    "from sklearn.decomposition import PCA\n",
    "\n",
    "pca = PCA(n_components=2)\n",
    "X2D = pca.fit_transform(X)\n",
    "pca.components_"
   ]
  },
  {
   "cell_type": "code",
   "execution_count": 4,
   "id": "34e6d947",
   "metadata": {
    "execution": {
     "iopub.execute_input": "2024-09-29T22:07:58.231462Z",
     "iopub.status.busy": "2024-09-29T22:07:58.230870Z",
     "iopub.status.idle": "2024-09-29T22:07:58.238186Z",
     "shell.execute_reply": "2024-09-29T22:07:58.237034Z"
    },
    "papermill": {
     "duration": 0.018032,
     "end_time": "2024-09-29T22:07:58.240583",
     "exception": false,
     "start_time": "2024-09-29T22:07:58.222551",
     "status": "completed"
    },
    "tags": []
   },
   "outputs": [
    {
     "data": {
      "text/plain": [
       "array([0.84248607, 0.14631839])"
      ]
     },
     "execution_count": 4,
     "metadata": {},
     "output_type": "execute_result"
    }
   ],
   "source": [
    "pca.explained_variance_ratio_"
   ]
  },
  {
   "cell_type": "code",
   "execution_count": 5,
   "id": "1e2423fc",
   "metadata": {
    "execution": {
     "iopub.execute_input": "2024-09-29T22:07:58.255124Z",
     "iopub.status.busy": "2024-09-29T22:07:58.254169Z",
     "iopub.status.idle": "2024-09-29T22:09:08.553534Z",
     "shell.execute_reply": "2024-09-29T22:09:08.552519Z"
    },
    "papermill": {
     "duration": 70.309723,
     "end_time": "2024-09-29T22:09:08.556373",
     "exception": false,
     "start_time": "2024-09-29T22:07:58.246650",
     "status": "completed"
    },
    "tags": []
   },
   "outputs": [
    {
     "name": "stderr",
     "output_type": "stream",
     "text": [
      "/opt/conda/lib/python3.10/site-packages/sklearn/datasets/_openml.py:968: FutureWarning: The default value of `parser` will change from `'liac-arff'` to `'auto'` in 1.4. You can set `parser='auto'` to silence this warning. Therefore, an `ImportError` will be raised from 1.4 if the dataset is dense and pandas is not installed. Note that the pandas parser may return different data types. See the Notes Section in fetch_openml's API doc for details.\n",
      "  warn(\n"
     ]
    }
   ],
   "source": [
    "from sklearn.datasets import fetch_openml\n",
    "from sklearn.model_selection import train_test_split\n",
    "\n",
    "mnist = fetch_openml('mnist_784', version=1, as_frame=True)\n",
    "mnist.target = mnist.target.astype(np.uint8)\n",
    "\n",
    "X = mnist[\"data\"]\n",
    "y = mnist[\"target\"]\n",
    "\n",
    "X_train, X_test, y_train, y_test = train_test_split(X, y)"
   ]
  },
  {
   "cell_type": "code",
   "execution_count": 6,
   "id": "f273b9a2",
   "metadata": {
    "execution": {
     "iopub.execute_input": "2024-09-29T22:09:08.571564Z",
     "iopub.status.busy": "2024-09-29T22:09:08.571157Z",
     "iopub.status.idle": "2024-09-29T22:09:14.831470Z",
     "shell.execute_reply": "2024-09-29T22:09:14.830470Z"
    },
    "papermill": {
     "duration": 6.271315,
     "end_time": "2024-09-29T22:09:14.834202",
     "exception": false,
     "start_time": "2024-09-29T22:09:08.562887",
     "status": "completed"
    },
    "tags": []
   },
   "outputs": [],
   "source": [
    "pca = PCA()\n",
    "pca.fit(X_train)\n",
    "cumsum = np.cumsum(pca.explained_variance_ratio_)"
   ]
  },
  {
   "cell_type": "code",
   "execution_count": 7,
   "id": "4fc3a642",
   "metadata": {
    "execution": {
     "iopub.execute_input": "2024-09-29T22:09:14.848971Z",
     "iopub.status.busy": "2024-09-29T22:09:14.847989Z",
     "iopub.status.idle": "2024-09-29T22:09:14.855738Z",
     "shell.execute_reply": "2024-09-29T22:09:14.854623Z"
    },
    "papermill": {
     "duration": 0.01742,
     "end_time": "2024-09-29T22:09:14.857958",
     "exception": false,
     "start_time": "2024-09-29T22:09:14.840538",
     "status": "completed"
    },
    "tags": []
   },
   "outputs": [
    {
     "data": {
      "text/plain": [
       "154"
      ]
     },
     "execution_count": 7,
     "metadata": {},
     "output_type": "execute_result"
    }
   ],
   "source": [
    "d = np.argmax(cumsum >= 0.95) + 1\n",
    "d"
   ]
  },
  {
   "cell_type": "code",
   "execution_count": 8,
   "id": "fa1501a4",
   "metadata": {
    "execution": {
     "iopub.execute_input": "2024-09-29T22:09:14.872424Z",
     "iopub.status.busy": "2024-09-29T22:09:14.872027Z",
     "iopub.status.idle": "2024-09-29T22:09:23.367721Z",
     "shell.execute_reply": "2024-09-29T22:09:23.366548Z"
    },
    "papermill": {
     "duration": 8.506146,
     "end_time": "2024-09-29T22:09:23.370528",
     "exception": false,
     "start_time": "2024-09-29T22:09:14.864382",
     "status": "completed"
    },
    "tags": []
   },
   "outputs": [],
   "source": [
    "pca = PCA(n_components=0.95)\n",
    "X_reduced = pca.fit_transform(X_train)"
   ]
  },
  {
   "cell_type": "code",
   "execution_count": 9,
   "id": "b2f7c56c",
   "metadata": {
    "execution": {
     "iopub.execute_input": "2024-09-29T22:09:23.385630Z",
     "iopub.status.busy": "2024-09-29T22:09:23.385226Z",
     "iopub.status.idle": "2024-09-29T22:09:23.684609Z",
     "shell.execute_reply": "2024-09-29T22:09:23.683500Z"
    },
    "papermill": {
     "duration": 0.309804,
     "end_time": "2024-09-29T22:09:23.686956",
     "exception": false,
     "start_time": "2024-09-29T22:09:23.377152",
     "status": "completed"
    },
    "tags": []
   },
   "outputs": [
    {
     "data": {
      "text/plain": [
       "[<matplotlib.lines.Line2D at 0x78c9b2b76620>]"
      ]
     },
     "execution_count": 9,
     "metadata": {},
     "output_type": "execute_result"
    },
    {
     "data": {
      "image/png": "[encoded data removed]",
      "text/plain": [
       "<Figure size 600x400 with 1 Axes>"
      ]
     },
     "metadata": {},
     "output_type": "display_data"
    }
   ],
   "source": [
    "import matplotlib.pyplot as plt\n",
    "\n",
    "plt.figure(figsize=(6,4))\n",
    "plt.plot(cumsum, linewidth=3)"
   ]
  },
  {
   "cell_type": "code",
   "execution_count": 10,
   "id": "96c7b6e3",
   "metadata": {
    "execution": {
     "iopub.execute_input": "2024-09-29T22:09:23.703869Z",
     "iopub.status.busy": "2024-09-29T22:09:23.702963Z",
     "iopub.status.idle": "2024-09-29T22:09:24.180447Z",
     "shell.execute_reply": "2024-09-29T22:09:24.179078Z"
    },
    "papermill": {
     "duration": 0.489488,
     "end_time": "2024-09-29T22:09:24.183340",
     "exception": false,
     "start_time": "2024-09-29T22:09:23.693852",
     "status": "completed"
    },
    "tags": []
   },
   "outputs": [
    {
     "data": {
      "text/plain": [
       "41160000"
      ]
     },
     "execution_count": 10,
     "metadata": {},
     "output_type": "execute_result"
    }
   ],
   "source": [
    "## Reversão da redução de dimensionalidade. Perde ~5% da variância\n",
    "\n",
    "X_recovered = pca.inverse_transform(X_reduced)\n",
    "X_recovered.size"
   ]
  },
  {
   "cell_type": "code",
   "execution_count": 11,
   "id": "aa69e9fc",
   "metadata": {
    "execution": {
     "iopub.execute_input": "2024-09-29T22:09:24.200020Z",
     "iopub.status.busy": "2024-09-29T22:09:24.198881Z",
     "iopub.status.idle": "2024-09-29T22:09:30.347602Z",
     "shell.execute_reply": "2024-09-29T22:09:30.346429Z"
    },
    "papermill": {
     "duration": 6.15992,
     "end_time": "2024-09-29T22:09:30.350465",
     "exception": false,
     "start_time": "2024-09-29T22:09:24.190545",
     "status": "completed"
    },
    "tags": []
   },
   "outputs": [],
   "source": [
    "rnd_pca = PCA(n_components=154, svd_solver=\"randomized\")\n",
    "X_reduced = rnd_pca.fit_transform(X_train)"
   ]
  },
  {
   "cell_type": "code",
   "execution_count": 12,
   "id": "cbf9d9b9",
   "metadata": {
    "execution": {
     "iopub.execute_input": "2024-09-29T22:09:30.366941Z",
     "iopub.status.busy": "2024-09-29T22:09:30.365972Z",
     "iopub.status.idle": "2024-09-29T22:09:59.718691Z",
     "shell.execute_reply": "2024-09-29T22:09:59.717085Z"
    },
    "papermill": {
     "duration": 29.365631,
     "end_time": "2024-09-29T22:09:59.723236",
     "exception": false,
     "start_time": "2024-09-29T22:09:30.357605",
     "status": "completed"
    },
    "tags": []
   },
   "outputs": [
    {
     "name": "stderr",
     "output_type": "stream",
     "text": [
      "/opt/conda/lib/python3.10/site-packages/numpy/core/fromnumeric.py:59: FutureWarning: 'DataFrame.swapaxes' is deprecated and will be removed in a future version. Please use 'DataFrame.transpose' instead.\n",
      "  return bound(*args, **kwds)\n"
     ]
    }
   ],
   "source": [
    "## Aplicação do PCA em batches para volumes grandes de dados que não cabem na memória\n",
    "\n",
    "from sklearn.decomposition import IncrementalPCA\n",
    "\n",
    "n_batches = 100\n",
    "inc_pca = IncrementalPCA(n_components=154)\n",
    "for X_batch in np.array_split(X_train, n_batches):\n",
    "    inc_pca.partial_fit(X_batch)\n",
    "    \n",
    "X_reduced = inc_pca.transform(X_train)"
   ]
  },
  {
   "cell_type": "code",
   "execution_count": 13,
   "id": "6ce48ba0",
   "metadata": {
    "execution": {
     "iopub.execute_input": "2024-09-29T22:09:59.760834Z",
     "iopub.status.busy": "2024-09-29T22:09:59.760133Z",
     "iopub.status.idle": "2024-09-29T22:10:06.969891Z",
     "shell.execute_reply": "2024-09-29T22:10:06.968788Z"
    },
    "papermill": {
     "duration": 7.229336,
     "end_time": "2024-09-29T22:10:06.972811",
     "exception": false,
     "start_time": "2024-09-29T22:09:59.743475",
     "status": "completed"
    },
    "tags": []
   },
   "outputs": [
    {
     "data": {
      "text/html": [
       "<style>#sk-container-id-1 {color: black;background-color: white;}#sk-container-id-1 pre{padding: 0;}#sk-container-id-1 div.sk-toggleable {background-color: white;}#sk-container-id-1 label.sk-toggleable__label {cursor: pointer;display: block;width: 100%;margin-bottom: 0;padding: 0.3em;box-sizing: border-box;text-align: center;}#sk-container-id-1 label.sk-toggleable__label-arrow:before {content: \"▸\";float: left;margin-right: 0.25em;color: #696969;}#sk-container-id-1 label.sk-toggleable__label-arrow:hover:before {color: black;}#sk-container-id-1 div.sk-estimator:hover label.sk-toggleable__label-arrow:before {color: black;}#sk-container-id-1 div.sk-toggleable__content {max-height: 0;max-width: 0;overflow: hidden;text-align: left;background-color: #f0f8ff;}#sk-container-id-1 div.sk-toggleable__content pre {margin: 0.2em;color: black;border-radius: 0.25em;background-color: #f0f8ff;}#sk-container-id-1 input.sk-toggleable__control:checked~div.sk-toggleable__content {max-height: 200px;max-width: 100%;overflow: auto;}#sk-container-id-1 input.sk-toggleable__control:checked~label.sk-toggleable__label-arrow:before {content: \"▾\";}#sk-container-id-1 div.sk-estimator input.sk-toggleable__control:checked~label.sk-toggleable__label {background-color: #d4ebff;}#sk-container-id-1 div.sk-label input.sk-toggleable__control:checked~label.sk-toggleable__label {background-color: #d4ebff;}#sk-container-id-1 input.sk-hidden--visually {border: 0;clip: rect(1px 1px 1px 1px);clip: rect(1px, 1px, 1px, 1px);height: 1px;margin: -1px;overflow: hidden;padding: 0;position: absolute;width: 1px;}#sk-container-id-1 div.sk-estimator {font-family: monospace;background-color: #f0f8ff;border: 1px dotted black;border-radius: 0.25em;box-sizing: border-box;margin-bottom: 0.5em;}#sk-container-id-1 div.sk-estimator:hover {background-color: #d4ebff;}#sk-container-id-1 div.sk-parallel-item::after {content: \"\";width: 100%;border-bottom: 1px solid gray;flex-grow: 1;}#sk-container-id-1 div.sk-label:hover label.sk-toggleable__label {background-color: #d4ebff;}#sk-container-id-1 div.sk-serial::before {content: \"\";position: absolute;border-left: 1px solid gray;box-sizing: border-box;top: 0;bottom: 0;left: 50%;z-index: 0;}#sk-container-id-1 div.sk-serial {display: flex;flex-direction: column;align-items: center;background-color: white;padding-right: 0.2em;padding-left: 0.2em;position: relative;}#sk-container-id-1 div.sk-item {position: relative;z-index: 1;}#sk-container-id-1 div.sk-parallel {display: flex;align-items: stretch;justify-content: center;background-color: white;position: relative;}#sk-container-id-1 div.sk-item::before, #sk-container-id-1 div.sk-parallel-item::before {content: \"\";position: absolute;border-left: 1px solid gray;box-sizing: border-box;top: 0;bottom: 0;left: 50%;z-index: -1;}#sk-container-id-1 div.sk-parallel-item {display: flex;flex-direction: column;z-index: 1;position: relative;background-color: white;}#sk-container-id-1 div.sk-parallel-item:first-child::after {align-self: flex-end;width: 50%;}#sk-container-id-1 div.sk-parallel-item:last-child::after {align-self: flex-start;width: 50%;}#sk-container-id-1 div.sk-parallel-item:only-child::after {width: 0;}#sk-container-id-1 div.sk-dashed-wrapped {border: 1px dashed gray;margin: 0 0.4em 0.5em 0.4em;box-sizing: border-box;padding-bottom: 0.4em;background-color: white;}#sk-container-id-1 div.sk-label label {font-family: monospace;font-weight: bold;display: inline-block;line-height: 1.2em;}#sk-container-id-1 div.sk-label-container {text-align: center;}#sk-container-id-1 div.sk-container {/* jupyter's `normalize.less` sets `[hidden] { display: none; }` but bootstrap.min.css set `[hidden] { display: none !important; }` so we also need the `!important` here to be able to override the default hidden behavior on the sphinx rendered scikit-learn.org. See: https://github.com/scikit-learn/scikit-learn/issues/21755 */display: inline-block !important;position: relative;}#sk-container-id-1 div.sk-text-repr-fallback {display: none;}</style><div id=\"sk-container-id-1\" class=\"sk-top-container\"><div class=\"sk-text-repr-fallback\"><pre>GridSearchCV(cv=3,\n",
       "             estimator=Pipeline(steps=[(&#x27;kpca&#x27;, KernelPCA(n_components=2)),\n",
       "                                       (&#x27;log_reg&#x27;, LogisticRegression())]),\n",
       "             param_grid=[{&#x27;kpca__gamma&#x27;: array([0.03      , 0.03222222, 0.03444444, 0.03666667, 0.03888889,\n",
       "       0.04111111, 0.04333333, 0.04555556, 0.04777778, 0.05      ]),\n",
       "                          &#x27;kpca__kernel&#x27;: [&#x27;rbf&#x27;, &#x27;sigmoid&#x27;]}])</pre><b>In a Jupyter environment, please rerun this cell to show the HTML representation or trust the notebook. <br />On GitHub, the HTML representation is unable to render, please try loading this page with nbviewer.org.</b></div><div class=\"sk-container\" hidden><div class=\"sk-item sk-dashed-wrapped\"><div class=\"sk-label-container\"><div class=\"sk-label sk-toggleable\"><input class=\"sk-toggleable__control sk-hidden--visually\" id=\"sk-estimator-id-1\" type=\"checkbox\" ><label for=\"sk-estimator-id-1\" class=\"sk-toggleable__label sk-toggleable__label-arrow\">GridSearchCV</label><div class=\"sk-toggleable__content\"><pre>GridSearchCV(cv=3,\n",
       "             estimator=Pipeline(steps=[(&#x27;kpca&#x27;, KernelPCA(n_components=2)),\n",
       "                                       (&#x27;log_reg&#x27;, LogisticRegression())]),\n",
       "             param_grid=[{&#x27;kpca__gamma&#x27;: array([0.03      , 0.03222222, 0.03444444, 0.03666667, 0.03888889,\n",
       "       0.04111111, 0.04333333, 0.04555556, 0.04777778, 0.05      ]),\n",
       "                          &#x27;kpca__kernel&#x27;: [&#x27;rbf&#x27;, &#x27;sigmoid&#x27;]}])</pre></div></div></div><div class=\"sk-parallel\"><div class=\"sk-parallel-item\"><div class=\"sk-item\"><div class=\"sk-label-container\"><div class=\"sk-label sk-toggleable\"><input class=\"sk-toggleable__control sk-hidden--visually\" id=\"sk-estimator-id-2\" type=\"checkbox\" ><label for=\"sk-estimator-id-2\" class=\"sk-toggleable__label sk-toggleable__label-arrow\">estimator: Pipeline</label><div class=\"sk-toggleable__content\"><pre>Pipeline(steps=[(&#x27;kpca&#x27;, KernelPCA(n_components=2)),\n",
       "                (&#x27;log_reg&#x27;, LogisticRegression())])</pre></div></div></div><div class=\"sk-serial\"><div class=\"sk-item\"><div class=\"sk-serial\"><div class=\"sk-item\"><div class=\"sk-estimator sk-toggleable\"><input class=\"sk-toggleable__control sk-hidden--visually\" id=\"sk-estimator-id-3\" type=\"checkbox\" ><label for=\"sk-estimator-id-3\" class=\"sk-toggleable__label sk-toggleable__label-arrow\">KernelPCA</label><div class=\"sk-toggleable__content\"><pre>KernelPCA(n_components=2)</pre></div></div></div><div class=\"sk-item\"><div class=\"sk-estimator sk-toggleable\"><input class=\"sk-toggleable__control sk-hidden--visually\" id=\"sk-estimator-id-4\" type=\"checkbox\" ><label for=\"sk-estimator-id-4\" class=\"sk-toggleable__label sk-toggleable__label-arrow\">LogisticRegression</label><div class=\"sk-toggleable__content\"><pre>LogisticRegression()</pre></div></div></div></div></div></div></div></div></div></div></div></div>"
      ],
      "text/plain": [
       "GridSearchCV(cv=3,\n",
       "             estimator=Pipeline(steps=[('kpca', KernelPCA(n_components=2)),\n",
       "                                       ('log_reg', LogisticRegression())]),\n",
       "             param_grid=[{'kpca__gamma': array([0.03      , 0.03222222, 0.03444444, 0.03666667, 0.03888889,\n",
       "       0.04111111, 0.04333333, 0.04555556, 0.04777778, 0.05      ]),\n",
       "                          'kpca__kernel': ['rbf', 'sigmoid']}])"
      ]
     },
     "execution_count": 13,
     "metadata": {},
     "output_type": "execute_result"
    }
   ],
   "source": [
    "## Pipeline para escolher o melhor tipo de kernel PCA e valor de hiperparâmetro\n",
    "\n",
    "from sklearn.datasets import make_swiss_roll\n",
    "from sklearn.decomposition import KernelPCA\n",
    "from sklearn.model_selection import GridSearchCV\n",
    "from sklearn.linear_model import LogisticRegression\n",
    "from sklearn.pipeline import Pipeline\n",
    "\n",
    "X, t = make_swiss_roll(n_samples=1000, noise=0.2, random_state=42)\n",
    "y = t > 6.9\n",
    "\n",
    "clf = Pipeline([\n",
    "    (\"kpca\", KernelPCA(n_components=2)),\n",
    "    (\"log_reg\", LogisticRegression())\n",
    "])\n",
    "\n",
    "param_grid = [{\n",
    "    \"kpca__gamma\": np.linspace(0.03, 0.05, 10),\n",
    "    \"kpca__kernel\": [\"rbf\", \"sigmoid\"]\n",
    "}]\n",
    "\n",
    "grid_search = GridSearchCV(clf, param_grid, cv=3)\n",
    "grid_search.fit(X, y)"
   ]
  },
  {
   "cell_type": "code",
   "execution_count": 14,
   "id": "cbad237f",
   "metadata": {
    "execution": {
     "iopub.execute_input": "2024-09-29T22:10:06.991762Z",
     "iopub.status.busy": "2024-09-29T22:10:06.990786Z",
     "iopub.status.idle": "2024-09-29T22:10:06.998154Z",
     "shell.execute_reply": "2024-09-29T22:10:06.997029Z"
    },
    "papermill": {
     "duration": 0.018537,
     "end_time": "2024-09-29T22:10:07.000424",
     "exception": false,
     "start_time": "2024-09-29T22:10:06.981887",
     "status": "completed"
    },
    "tags": []
   },
   "outputs": [
    {
     "data": {
      "text/plain": [
       "{'kpca__gamma': 0.043333333333333335, 'kpca__kernel': 'rbf'}"
      ]
     },
     "execution_count": 14,
     "metadata": {},
     "output_type": "execute_result"
    }
   ],
   "source": [
    "grid_search.best_params_"
   ]
  },
  {
   "cell_type": "code",
   "execution_count": 15,
   "id": "6957dee3",
   "metadata": {
    "execution": {
     "iopub.execute_input": "2024-09-29T22:10:07.017964Z",
     "iopub.status.busy": "2024-09-29T22:10:07.017141Z",
     "iopub.status.idle": "2024-09-29T22:10:07.242949Z",
     "shell.execute_reply": "2024-09-29T22:10:07.241903Z"
    },
    "papermill": {
     "duration": 0.238113,
     "end_time": "2024-09-29T22:10:07.246355",
     "exception": false,
     "start_time": "2024-09-29T22:10:07.008242",
     "status": "completed"
    },
    "tags": []
   },
   "outputs": [],
   "source": [
    "## Método LLE bom para desenrolar manifolds distorcidos\n",
    "\n",
    "from sklearn.manifold import LocallyLinearEmbedding\n",
    "\n",
    "lle = LocallyLinearEmbedding(n_components=2, n_neighbors=10)\n",
    "X_reduced = lle.fit_transform(X)"
   ]
  },
  {
   "cell_type": "code",
   "execution_count": null,
   "id": "148a7768",
   "metadata": {
    "papermill": {
     "duration": 0.009621,
     "end_time": "2024-09-29T22:10:07.266100",
     "exception": false,
     "start_time": "2024-09-29T22:10:07.256479",
     "status": "completed"
    },
    "tags": []
   },
   "outputs": [],
   "source": []
  }
 ],
 "metadata": {
  "kaggle": {
   "accelerator": "none",
   "dataSources": [],
   "dockerImageVersionId": 30775,
   "isGpuEnabled": false,
   "isInternetEnabled": true,
   "language": "python",
   "sourceType": "notebook"
  },
  "kernelspec": {
   "display_name": "Python 3",
   "language": "python",
   "name": "python3"
  },
  "language_info": {
   "codemirror_mode": {
    "name": "ipython",
    "version": 3
   },
   "file_extension": ".py",
   "mimetype": "text/x-python",
   "name": "python",
   "nbconvert_exporter": "python",
   "pygments_lexer": "ipython3",
   "version": "3.10.14"
  },
  "papermill": {
   "default_parameters": {},
   "duration": 135.046631,
   "end_time": "2024-09-29T22:10:07.998854",
   "environment_variables": {},
   "exception": null,
   "input_path": "__notebook__.ipynb",
   "output_path": "__notebook__.ipynb",
   "parameters": {},
   "start_time": "2024-09-29T22:07:52.952223",
   "version": "2.6.0"
  }
 },
 "nbformat": 4,
 "nbformat_minor": 5
}
