{
 "cells": [
  {
   "cell_type": "code",
   "execution_count": 1,
   "id": "373bfb92",
   "metadata": {
    "_cell_guid": "b1076dfc-b9ad-4769-8c92-a6c4dae69d19",
    "_uuid": "8f2839f25d086af736a60e9eeb907d3b93b6e0e5",
    "execution": {
     "iopub.execute_input": "2024-09-22T23:21:13.992552Z",
     "iopub.status.busy": "2024-09-22T23:21:13.992151Z",
     "iopub.status.idle": "2024-09-22T23:21:14.387866Z",
     "shell.execute_reply": "2024-09-22T23:21:14.386651Z"
    },
    "papermill": {
     "duration": 0.40301,
     "end_time": "2024-09-22T23:21:14.390289",
     "exception": false,
     "start_time": "2024-09-22T23:21:13.987279",
     "status": "completed"
    },
    "tags": []
   },
   "outputs": [],
   "source": [
    "# This Python 3 environment comes with many helpful analytics libraries installed\n",
    "# It is defined by the kaggle/python Docker image: https://github.com/kaggle/docker-python\n",
    "# For example, here's several helpful packages to load\n",
    "\n",
    "import numpy as np # linear algebra\n",
    "import pandas as pd # data processing, CSV file I/O (e.g. pd.read_csv)\n",
    "\n",
    "# Input data files are available in the read-only \"../input/\" directory\n",
    "# For example, running this (by clicking run or pressing Shift+Enter) will list all files under the input directory\n",
    "\n",
    "import os\n",
    "for dirname, _, filenames in os.walk('/kaggle/input'):\n",
    "    for filename in filenames:\n",
    "        print(os.path.join(dirname, filename))\n",
    "\n",
    "# You can write up to 20GB to the current directory (/kaggle/working/) that gets preserved as output when you create a version using \"Save & Run All\" \n",
    "# You can also write temporary files to /kaggle/temp/, but they won't be saved outside of the current session"
   ]
  },
  {
   "cell_type": "code",
   "execution_count": 2,
   "id": "4d633c51",
   "metadata": {
    "execution": {
     "iopub.execute_input": "2024-09-22T23:21:14.397985Z",
     "iopub.status.busy": "2024-09-22T23:21:14.397364Z",
     "iopub.status.idle": "2024-09-22T23:21:16.187962Z",
     "shell.execute_reply": "2024-09-22T23:21:16.186865Z"
    },
    "papermill": {
     "duration": 1.796908,
     "end_time": "2024-09-22T23:21:16.190197",
     "exception": false,
     "start_time": "2024-09-22T23:21:14.393289",
     "status": "completed"
    },
    "tags": []
   },
   "outputs": [
    {
     "data": {
      "text/html": [
       "<style>#sk-container-id-1 {color: black;background-color: white;}#sk-container-id-1 pre{padding: 0;}#sk-container-id-1 div.sk-toggleable {background-color: white;}#sk-container-id-1 label.sk-toggleable__label {cursor: pointer;display: block;width: 100%;margin-bottom: 0;padding: 0.3em;box-sizing: border-box;text-align: center;}#sk-container-id-1 label.sk-toggleable__label-arrow:before {content: \"▸\";float: left;margin-right: 0.25em;color: #696969;}#sk-container-id-1 label.sk-toggleable__label-arrow:hover:before {color: black;}#sk-container-id-1 div.sk-estimator:hover label.sk-toggleable__label-arrow:before {color: black;}#sk-container-id-1 div.sk-toggleable__content {max-height: 0;max-width: 0;overflow: hidden;text-align: left;background-color: #f0f8ff;}#sk-container-id-1 div.sk-toggleable__content pre {margin: 0.2em;color: black;border-radius: 0.25em;background-color: #f0f8ff;}#sk-container-id-1 input.sk-toggleable__control:checked~div.sk-toggleable__content {max-height: 200px;max-width: 100%;overflow: auto;}#sk-container-id-1 input.sk-toggleable__control:checked~label.sk-toggleable__label-arrow:before {content: \"▾\";}#sk-container-id-1 div.sk-estimator input.sk-toggleable__control:checked~label.sk-toggleable__label {background-color: #d4ebff;}#sk-container-id-1 div.sk-label input.sk-toggleable__control:checked~label.sk-toggleable__label {background-color: #d4ebff;}#sk-container-id-1 input.sk-hidden--visually {border: 0;clip: rect(1px 1px 1px 1px);clip: rect(1px, 1px, 1px, 1px);height: 1px;margin: -1px;overflow: hidden;padding: 0;position: absolute;width: 1px;}#sk-container-id-1 div.sk-estimator {font-family: monospace;background-color: #f0f8ff;border: 1px dotted black;border-radius: 0.25em;box-sizing: border-box;margin-bottom: 0.5em;}#sk-container-id-1 div.sk-estimator:hover {background-color: #d4ebff;}#sk-container-id-1 div.sk-parallel-item::after {content: \"\";width: 100%;border-bottom: 1px solid gray;flex-grow: 1;}#sk-container-id-1 div.sk-label:hover label.sk-toggleable__label {background-color: #d4ebff;}#sk-container-id-1 div.sk-serial::before {content: \"\";position: absolute;border-left: 1px solid gray;box-sizing: border-box;top: 0;bottom: 0;left: 50%;z-index: 0;}#sk-container-id-1 div.sk-serial {display: flex;flex-direction: column;align-items: center;background-color: white;padding-right: 0.2em;padding-left: 0.2em;position: relative;}#sk-container-id-1 div.sk-item {position: relative;z-index: 1;}#sk-container-id-1 div.sk-parallel {display: flex;align-items: stretch;justify-content: center;background-color: white;position: relative;}#sk-container-id-1 div.sk-item::before, #sk-container-id-1 div.sk-parallel-item::before {content: \"\";position: absolute;border-left: 1px solid gray;box-sizing: border-box;top: 0;bottom: 0;left: 50%;z-index: -1;}#sk-container-id-1 div.sk-parallel-item {display: flex;flex-direction: column;z-index: 1;position: relative;background-color: white;}#sk-container-id-1 div.sk-parallel-item:first-child::after {align-self: flex-end;width: 50%;}#sk-container-id-1 div.sk-parallel-item:last-child::after {align-self: flex-start;width: 50%;}#sk-container-id-1 div.sk-parallel-item:only-child::after {width: 0;}#sk-container-id-1 div.sk-dashed-wrapped {border: 1px dashed gray;margin: 0 0.4em 0.5em 0.4em;box-sizing: border-box;padding-bottom: 0.4em;background-color: white;}#sk-container-id-1 div.sk-label label {font-family: monospace;font-weight: bold;display: inline-block;line-height: 1.2em;}#sk-container-id-1 div.sk-label-container {text-align: center;}#sk-container-id-1 div.sk-container {/* jupyter's `normalize.less` sets `[hidden] { display: none; }` but bootstrap.min.css set `[hidden] { display: none !important; }` so we also need the `!important` here to be able to override the default hidden behavior on the sphinx rendered scikit-learn.org. See: https://github.com/scikit-learn/scikit-learn/issues/21755 */display: inline-block !important;position: relative;}#sk-container-id-1 div.sk-text-repr-fallback {display: none;}</style><div id=\"sk-container-id-1\" class=\"sk-top-container\"><div class=\"sk-text-repr-fallback\"><pre>DecisionTreeClassifier(max_depth=2)</pre><b>In a Jupyter environment, please rerun this cell to show the HTML representation or trust the notebook. <br />On GitHub, the HTML representation is unable to render, please try loading this page with nbviewer.org.</b></div><div class=\"sk-container\" hidden><div class=\"sk-item\"><div class=\"sk-estimator sk-toggleable\"><input class=\"sk-toggleable__control sk-hidden--visually\" id=\"sk-estimator-id-1\" type=\"checkbox\" checked><label for=\"sk-estimator-id-1\" class=\"sk-toggleable__label sk-toggleable__label-arrow\">DecisionTreeClassifier</label><div class=\"sk-toggleable__content\"><pre>DecisionTreeClassifier(max_depth=2)</pre></div></div></div></div></div>"
      ],
      "text/plain": [
       "DecisionTreeClassifier(max_depth=2)"
      ]
     },
     "execution_count": 2,
     "metadata": {},
     "output_type": "execute_result"
    }
   ],
   "source": [
    "from sklearn.datasets import load_iris\n",
    "from sklearn.tree import DecisionTreeClassifier\n",
    "\n",
    "iris=load_iris()\n",
    "X = iris.data[:, 2:]\n",
    "y = iris.target\n",
    "\n",
    "tree_clf = DecisionTreeClassifier(max_depth=2)\n",
    "tree_clf.fit(X, y)"
   ]
  },
  {
   "cell_type": "code",
   "execution_count": 3,
   "id": "f0a73a01",
   "metadata": {
    "execution": {
     "iopub.execute_input": "2024-09-22T23:21:16.198415Z",
     "iopub.status.busy": "2024-09-22T23:21:16.197373Z",
     "iopub.status.idle": "2024-09-22T23:21:16.450894Z",
     "shell.execute_reply": "2024-09-22T23:21:16.449503Z"
    },
    "papermill": {
     "duration": 0.260226,
     "end_time": "2024-09-22T23:21:16.453411",
     "exception": false,
     "start_time": "2024-09-22T23:21:16.193185",
     "status": "completed"
    },
    "tags": []
   },
   "outputs": [
    {
     "data": {
      "image/svg+xml": [
       "<?xml version=\"1.0\" encoding=\"UTF-8\" standalone=\"no\"?>\n",
       "<!DOCTYPE svg PUBLIC \"-//W3C//DTD SVG 1.1//EN\"\n",
       " \"http://www.w3.org/Graphics/SVG/1.1/DTD/svg11.dtd\">\n",
       "<!-- Generated by graphviz version 12.0.0 (20240803.0821)\n",
       " -->\n",
       "<!-- Title: Tree Pages: 1 -->\n",
       "<svg width=\"409pt\" height=\"346pt\"\n",
       " viewBox=\"0.00 0.00 409.00 345.50\" xmlns=\"http://www.w3.org/2000/svg\" xmlns:xlink=\"http://www.w3.org/1999/xlink\">\n",
       "<g id=\"graph0\" class=\"graph\" transform=\"scale(1 1) rotate(0) translate(4 341.5)\">\n",
       "<title>Tree</title>\n",
       "<polygon fill=\"white\" stroke=\"none\" points=\"-4,4 -4,-341.5 405,-341.5 405,4 -4,4\"/>\n",
       "<!-- 0 -->\n",
       "<g id=\"node1\" class=\"node\">\n",
       "<title>0</title>\n",
       "<path fill=\"#ffffff\" stroke=\"black\" d=\"M249.38,-337.5C249.38,-337.5 73.62,-337.5 73.62,-337.5 67.62,-337.5 61.62,-331.5 61.62,-325.5 61.62,-325.5 61.62,-255.25 61.62,-255.25 61.62,-249.25 67.62,-243.25 73.62,-243.25 73.62,-243.25 249.38,-243.25 249.38,-243.25 255.38,-243.25 261.38,-249.25 261.38,-255.25 261.38,-255.25 261.38,-325.5 261.38,-325.5 261.38,-331.5 255.38,-337.5 249.38,-337.5\"/>\n",
       "<text text-anchor=\"middle\" x=\"161.5\" y=\"-320.2\" font-family=\"Helvetica,sans-Serif\" font-size=\"14.00\">petal length (cm) &lt;= 2.45</text>\n",
       "<text text-anchor=\"middle\" x=\"161.5\" y=\"-302.95\" font-family=\"Helvetica,sans-Serif\" font-size=\"14.00\">gini = 0.667</text>\n",
       "<text text-anchor=\"middle\" x=\"161.5\" y=\"-285.7\" font-family=\"Helvetica,sans-Serif\" font-size=\"14.00\">samples = 150</text>\n",
       "<text text-anchor=\"middle\" x=\"161.5\" y=\"-268.45\" font-family=\"Helvetica,sans-Serif\" font-size=\"14.00\">value = [50, 50, 50]</text>\n",
       "<text text-anchor=\"middle\" x=\"161.5\" y=\"-251.2\" font-family=\"Helvetica,sans-Serif\" font-size=\"14.00\">class = setosa</text>\n",
       "</g>\n",
       "<!-- 1 -->\n",
       "<g id=\"node2\" class=\"node\">\n",
       "<title>1</title>\n",
       "<path fill=\"#e58139\" stroke=\"black\" d=\"M127,-198.62C127,-198.62 12,-198.62 12,-198.62 6,-198.62 0,-192.62 0,-186.62 0,-186.62 0,-133.62 0,-133.62 0,-127.62 6,-121.62 12,-121.62 12,-121.62 127,-121.62 127,-121.62 133,-121.62 139,-127.62 139,-133.62 139,-133.62 139,-186.62 139,-186.62 139,-192.62 133,-198.62 127,-198.62\"/>\n",
       "<text text-anchor=\"middle\" x=\"69.5\" y=\"-181.32\" font-family=\"Helvetica,sans-Serif\" font-size=\"14.00\">gini = 0.0</text>\n",
       "<text text-anchor=\"middle\" x=\"69.5\" y=\"-164.07\" font-family=\"Helvetica,sans-Serif\" font-size=\"14.00\">samples = 50</text>\n",
       "<text text-anchor=\"middle\" x=\"69.5\" y=\"-146.82\" font-family=\"Helvetica,sans-Serif\" font-size=\"14.00\">value = [50, 0, 0]</text>\n",
       "<text text-anchor=\"middle\" x=\"69.5\" y=\"-129.57\" font-family=\"Helvetica,sans-Serif\" font-size=\"14.00\">class = setosa</text>\n",
       "</g>\n",
       "<!-- 0&#45;&gt;1 -->\n",
       "<g id=\"edge1\" class=\"edge\">\n",
       "<title>0&#45;&gt;1</title>\n",
       "<path fill=\"none\" stroke=\"black\" d=\"M128.29,-243.07C120.16,-231.75 111.46,-219.62 103.31,-208.26\"/>\n",
       "<polygon fill=\"black\" stroke=\"black\" points=\"106.18,-206.25 97.5,-200.16 100.49,-210.33 106.18,-206.25\"/>\n",
       "<text text-anchor=\"middle\" x=\"92.56\" y=\"-218.93\" font-family=\"Helvetica,sans-Serif\" font-size=\"14.00\">True</text>\n",
       "</g>\n",
       "<!-- 2 -->\n",
       "<g id=\"node3\" class=\"node\">\n",
       "<title>2</title>\n",
       "<path fill=\"#ffffff\" stroke=\"black\" d=\"M338.38,-207.25C338.38,-207.25 168.62,-207.25 168.62,-207.25 162.62,-207.25 156.62,-201.25 156.62,-195.25 156.62,-195.25 156.62,-125 156.62,-125 156.62,-119 162.62,-113 168.62,-113 168.62,-113 338.38,-113 338.38,-113 344.38,-113 350.38,-119 350.38,-125 350.38,-125 350.38,-195.25 350.38,-195.25 350.38,-201.25 344.38,-207.25 338.38,-207.25\"/>\n",
       "<text text-anchor=\"middle\" x=\"253.5\" y=\"-189.95\" font-family=\"Helvetica,sans-Serif\" font-size=\"14.00\">petal width (cm) &lt;= 1.75</text>\n",
       "<text text-anchor=\"middle\" x=\"253.5\" y=\"-172.7\" font-family=\"Helvetica,sans-Serif\" font-size=\"14.00\">gini = 0.5</text>\n",
       "<text text-anchor=\"middle\" x=\"253.5\" y=\"-155.45\" font-family=\"Helvetica,sans-Serif\" font-size=\"14.00\">samples = 100</text>\n",
       "<text text-anchor=\"middle\" x=\"253.5\" y=\"-138.2\" font-family=\"Helvetica,sans-Serif\" font-size=\"14.00\">value = [0, 50, 50]</text>\n",
       "<text text-anchor=\"middle\" x=\"253.5\" y=\"-120.95\" font-family=\"Helvetica,sans-Serif\" font-size=\"14.00\">class = versicolor</text>\n",
       "</g>\n",
       "<!-- 0&#45;&gt;2 -->\n",
       "<g id=\"edge2\" class=\"edge\">\n",
       "<title>0&#45;&gt;2</title>\n",
       "<path fill=\"none\" stroke=\"black\" d=\"M194.71,-243.07C200.9,-234.45 207.43,-225.35 213.79,-216.49\"/>\n",
       "<polygon fill=\"black\" stroke=\"black\" points=\"216.47,-218.75 219.45,-208.59 210.78,-214.67 216.47,-218.75\"/>\n",
       "<text text-anchor=\"middle\" x=\"224.39\" y=\"-227.35\" font-family=\"Helvetica,sans-Serif\" font-size=\"14.00\">False</text>\n",
       "</g>\n",
       "<!-- 3 -->\n",
       "<g id=\"node4\" class=\"node\">\n",
       "<title>3</title>\n",
       "<path fill=\"#4de88e\" stroke=\"black\" d=\"M232,-77C232,-77 117,-77 117,-77 111,-77 105,-71 105,-65 105,-65 105,-12 105,-12 105,-6 111,0 117,0 117,0 232,0 232,0 238,0 244,-6 244,-12 244,-12 244,-65 244,-65 244,-71 238,-77 232,-77\"/>\n",
       "<text text-anchor=\"middle\" x=\"174.5\" y=\"-59.7\" font-family=\"Helvetica,sans-Serif\" font-size=\"14.00\">gini = 0.168</text>\n",
       "<text text-anchor=\"middle\" x=\"174.5\" y=\"-42.45\" font-family=\"Helvetica,sans-Serif\" font-size=\"14.00\">samples = 54</text>\n",
       "<text text-anchor=\"middle\" x=\"174.5\" y=\"-25.2\" font-family=\"Helvetica,sans-Serif\" font-size=\"14.00\">value = [0, 49, 5]</text>\n",
       "<text text-anchor=\"middle\" x=\"174.5\" y=\"-7.95\" font-family=\"Helvetica,sans-Serif\" font-size=\"14.00\">class = versicolor</text>\n",
       "</g>\n",
       "<!-- 2&#45;&gt;3 -->\n",
       "<g id=\"edge3\" class=\"edge\">\n",
       "<title>2&#45;&gt;3</title>\n",
       "<path fill=\"none\" stroke=\"black\" d=\"M222.73,-112.53C217.13,-104.05 211.28,-95.19 205.66,-86.69\"/>\n",
       "<polygon fill=\"black\" stroke=\"black\" points=\"208.72,-84.96 200.28,-78.54 202.87,-88.82 208.72,-84.96\"/>\n",
       "</g>\n",
       "<!-- 4 -->\n",
       "<g id=\"node5\" class=\"node\">\n",
       "<title>4</title>\n",
       "<path fill=\"#843de6\" stroke=\"black\" d=\"M389,-77C389,-77 274,-77 274,-77 268,-77 262,-71 262,-65 262,-65 262,-12 262,-12 262,-6 268,0 274,0 274,0 389,0 389,0 395,0 401,-6 401,-12 401,-12 401,-65 401,-65 401,-71 395,-77 389,-77\"/>\n",
       "<text text-anchor=\"middle\" x=\"331.5\" y=\"-59.7\" font-family=\"Helvetica,sans-Serif\" font-size=\"14.00\">gini = 0.043</text>\n",
       "<text text-anchor=\"middle\" x=\"331.5\" y=\"-42.45\" font-family=\"Helvetica,sans-Serif\" font-size=\"14.00\">samples = 46</text>\n",
       "<text text-anchor=\"middle\" x=\"331.5\" y=\"-25.2\" font-family=\"Helvetica,sans-Serif\" font-size=\"14.00\">value = [0, 1, 45]</text>\n",
       "<text text-anchor=\"middle\" x=\"331.5\" y=\"-7.95\" font-family=\"Helvetica,sans-Serif\" font-size=\"14.00\">class = virginica</text>\n",
       "</g>\n",
       "<!-- 2&#45;&gt;4 -->\n",
       "<g id=\"edge4\" class=\"edge\">\n",
       "<title>2&#45;&gt;4</title>\n",
       "<path fill=\"none\" stroke=\"black\" d=\"M283.88,-112.53C289.41,-104.05 295.19,-95.19 300.73,-86.69\"/>\n",
       "<polygon fill=\"black\" stroke=\"black\" points=\"303.51,-88.84 306.04,-78.55 297.65,-85.01 303.51,-88.84\"/>\n",
       "</g>\n",
       "</g>\n",
       "</svg>\n"
      ],
      "text/plain": [
       "<graphviz.sources.Source at 0x7c091ee346a0>"
      ]
     },
     "execution_count": 3,
     "metadata": {},
     "output_type": "execute_result"
    }
   ],
   "source": [
    "from graphviz import Source\n",
    "from sklearn.tree import export_graphviz\n",
    "\n",
    "export_graphviz(\n",
    "    tree_clf,\n",
    "    out_file=\"iris_tree.dot\",\n",
    "    feature_names=iris.feature_names[2:],\n",
    "    class_names=iris.target_names,\n",
    "    rounded=True,\n",
    "    filled=True\n",
    ")\n",
    "Source.from_file(\"iris_tree.dot\")"
   ]
  },
  {
   "cell_type": "code",
   "execution_count": 4,
   "id": "9e89f91e",
   "metadata": {
    "execution": {
     "iopub.execute_input": "2024-09-22T23:21:16.461728Z",
     "iopub.status.busy": "2024-09-22T23:21:16.461297Z",
     "iopub.status.idle": "2024-09-22T23:21:16.470195Z",
     "shell.execute_reply": "2024-09-22T23:21:16.469183Z"
    },
    "papermill": {
     "duration": 0.015474,
     "end_time": "2024-09-22T23:21:16.472344",
     "exception": false,
     "start_time": "2024-09-22T23:21:16.456870",
     "status": "completed"
    },
    "tags": []
   },
   "outputs": [
    {
     "data": {
      "text/plain": [
       "array([[0.        , 0.90740741, 0.09259259]])"
      ]
     },
     "execution_count": 4,
     "metadata": {},
     "output_type": "execute_result"
    }
   ],
   "source": [
    "tree_clf.predict_proba([[5, 1.5]])"
   ]
  },
  {
   "cell_type": "code",
   "execution_count": 5,
   "id": "56e283df",
   "metadata": {
    "execution": {
     "iopub.execute_input": "2024-09-22T23:21:16.481266Z",
     "iopub.status.busy": "2024-09-22T23:21:16.480777Z",
     "iopub.status.idle": "2024-09-22T23:21:16.492351Z",
     "shell.execute_reply": "2024-09-22T23:21:16.491019Z"
    },
    "papermill": {
     "duration": 0.018974,
     "end_time": "2024-09-22T23:21:16.494731",
     "exception": false,
     "start_time": "2024-09-22T23:21:16.475757",
     "status": "completed"
    },
    "tags": []
   },
   "outputs": [
    {
     "data": {
      "text/html": [
       "<style>#sk-container-id-2 {color: black;background-color: white;}#sk-container-id-2 pre{padding: 0;}#sk-container-id-2 div.sk-toggleable {background-color: white;}#sk-container-id-2 label.sk-toggleable__label {cursor: pointer;display: block;width: 100%;margin-bottom: 0;padding: 0.3em;box-sizing: border-box;text-align: center;}#sk-container-id-2 label.sk-toggleable__label-arrow:before {content: \"▸\";float: left;margin-right: 0.25em;color: #696969;}#sk-container-id-2 label.sk-toggleable__label-arrow:hover:before {color: black;}#sk-container-id-2 div.sk-estimator:hover label.sk-toggleable__label-arrow:before {color: black;}#sk-container-id-2 div.sk-toggleable__content {max-height: 0;max-width: 0;overflow: hidden;text-align: left;background-color: #f0f8ff;}#sk-container-id-2 div.sk-toggleable__content pre {margin: 0.2em;color: black;border-radius: 0.25em;background-color: #f0f8ff;}#sk-container-id-2 input.sk-toggleable__control:checked~div.sk-toggleable__content {max-height: 200px;max-width: 100%;overflow: auto;}#sk-container-id-2 input.sk-toggleable__control:checked~label.sk-toggleable__label-arrow:before {content: \"▾\";}#sk-container-id-2 div.sk-estimator input.sk-toggleable__control:checked~label.sk-toggleable__label {background-color: #d4ebff;}#sk-container-id-2 div.sk-label input.sk-toggleable__control:checked~label.sk-toggleable__label {background-color: #d4ebff;}#sk-container-id-2 input.sk-hidden--visually {border: 0;clip: rect(1px 1px 1px 1px);clip: rect(1px, 1px, 1px, 1px);height: 1px;margin: -1px;overflow: hidden;padding: 0;position: absolute;width: 1px;}#sk-container-id-2 div.sk-estimator {font-family: monospace;background-color: #f0f8ff;border: 1px dotted black;border-radius: 0.25em;box-sizing: border-box;margin-bottom: 0.5em;}#sk-container-id-2 div.sk-estimator:hover {background-color: #d4ebff;}#sk-container-id-2 div.sk-parallel-item::after {content: \"\";width: 100%;border-bottom: 1px solid gray;flex-grow: 1;}#sk-container-id-2 div.sk-label:hover label.sk-toggleable__label {background-color: #d4ebff;}#sk-container-id-2 div.sk-serial::before {content: \"\";position: absolute;border-left: 1px solid gray;box-sizing: border-box;top: 0;bottom: 0;left: 50%;z-index: 0;}#sk-container-id-2 div.sk-serial {display: flex;flex-direction: column;align-items: center;background-color: white;padding-right: 0.2em;padding-left: 0.2em;position: relative;}#sk-container-id-2 div.sk-item {position: relative;z-index: 1;}#sk-container-id-2 div.sk-parallel {display: flex;align-items: stretch;justify-content: center;background-color: white;position: relative;}#sk-container-id-2 div.sk-item::before, #sk-container-id-2 div.sk-parallel-item::before {content: \"\";position: absolute;border-left: 1px solid gray;box-sizing: border-box;top: 0;bottom: 0;left: 50%;z-index: -1;}#sk-container-id-2 div.sk-parallel-item {display: flex;flex-direction: column;z-index: 1;position: relative;background-color: white;}#sk-container-id-2 div.sk-parallel-item:first-child::after {align-self: flex-end;width: 50%;}#sk-container-id-2 div.sk-parallel-item:last-child::after {align-self: flex-start;width: 50%;}#sk-container-id-2 div.sk-parallel-item:only-child::after {width: 0;}#sk-container-id-2 div.sk-dashed-wrapped {border: 1px dashed gray;margin: 0 0.4em 0.5em 0.4em;box-sizing: border-box;padding-bottom: 0.4em;background-color: white;}#sk-container-id-2 div.sk-label label {font-family: monospace;font-weight: bold;display: inline-block;line-height: 1.2em;}#sk-container-id-2 div.sk-label-container {text-align: center;}#sk-container-id-2 div.sk-container {/* jupyter's `normalize.less` sets `[hidden] { display: none; }` but bootstrap.min.css set `[hidden] { display: none !important; }` so we also need the `!important` here to be able to override the default hidden behavior on the sphinx rendered scikit-learn.org. See: https://github.com/scikit-learn/scikit-learn/issues/21755 */display: inline-block !important;position: relative;}#sk-container-id-2 div.sk-text-repr-fallback {display: none;}</style><div id=\"sk-container-id-2\" class=\"sk-top-container\"><div class=\"sk-text-repr-fallback\"><pre>DecisionTreeRegressor(max_depth=2)</pre><b>In a Jupyter environment, please rerun this cell to show the HTML representation or trust the notebook. <br />On GitHub, the HTML representation is unable to render, please try loading this page with nbviewer.org.</b></div><div class=\"sk-container\" hidden><div class=\"sk-item\"><div class=\"sk-estimator sk-toggleable\"><input class=\"sk-toggleable__control sk-hidden--visually\" id=\"sk-estimator-id-2\" type=\"checkbox\" checked><label for=\"sk-estimator-id-2\" class=\"sk-toggleable__label sk-toggleable__label-arrow\">DecisionTreeRegressor</label><div class=\"sk-toggleable__content\"><pre>DecisionTreeRegressor(max_depth=2)</pre></div></div></div></div></div>"
      ],
      "text/plain": [
       "DecisionTreeRegressor(max_depth=2)"
      ]
     },
     "execution_count": 5,
     "metadata": {},
     "output_type": "execute_result"
    }
   ],
   "source": [
    "from sklearn.tree import DecisionTreeRegressor\n",
    "\n",
    "np.random.seed(42)\n",
    "m = 200\n",
    "X = np.random.rand(m, 1)\n",
    "y = 4 * (X - 0.5) ** 2\n",
    "y = y + np.random.randn(m, 1) / 10\n",
    "\n",
    "tree_reg = DecisionTreeRegressor(max_depth=2)\n",
    "tree_reg.fit(X, y)"
   ]
  },
  {
   "cell_type": "code",
   "execution_count": 6,
   "id": "22be08a9",
   "metadata": {
    "execution": {
     "iopub.execute_input": "2024-09-22T23:21:16.503950Z",
     "iopub.status.busy": "2024-09-22T23:21:16.503398Z",
     "iopub.status.idle": "2024-09-22T23:21:16.533460Z",
     "shell.execute_reply": "2024-09-22T23:21:16.532403Z"
    },
    "papermill": {
     "duration": 0.03753,
     "end_time": "2024-09-22T23:21:16.535890",
     "exception": false,
     "start_time": "2024-09-22T23:21:16.498360",
     "status": "completed"
    },
    "tags": []
   },
   "outputs": [
    {
     "data": {
      "image/svg+xml": [
       "<?xml version=\"1.0\" encoding=\"UTF-8\" standalone=\"no\"?>\n",
       "<!DOCTYPE svg PUBLIC \"-//W3C//DTD SVG 1.1//EN\"\n",
       " \"http://www.w3.org/Graphics/SVG/1.1/DTD/svg11.dtd\">\n",
       "<!-- Generated by graphviz version 12.0.0 (20240803.0821)\n",
       " -->\n",
       "<!-- Title: Tree Pages: 1 -->\n",
       "<svg width=\"758pt\" height=\"294pt\"\n",
       " viewBox=\"0.00 0.00 757.50 293.75\" xmlns=\"http://www.w3.org/2000/svg\" xmlns:xlink=\"http://www.w3.org/1999/xlink\">\n",
       "<g id=\"graph0\" class=\"graph\" transform=\"scale(1 1) rotate(0) translate(4 289.75)\">\n",
       "<title>Tree</title>\n",
       "<polygon fill=\"white\" stroke=\"none\" points=\"-4,4 -4,-289.75 753.5,-289.75 753.5,4 -4,4\"/>\n",
       "<!-- 0 -->\n",
       "<g id=\"node1\" class=\"node\">\n",
       "<title>0</title>\n",
       "<path fill=\"#f6d6be\" stroke=\"black\" d=\"M449.5,-285.75C449.5,-285.75 300,-285.75 300,-285.75 294,-285.75 288,-279.75 288,-273.75 288,-273.75 288,-220.75 288,-220.75 288,-214.75 294,-208.75 300,-208.75 300,-208.75 449.5,-208.75 449.5,-208.75 455.5,-208.75 461.5,-214.75 461.5,-220.75 461.5,-220.75 461.5,-273.75 461.5,-273.75 461.5,-279.75 455.5,-285.75 449.5,-285.75\"/>\n",
       "<text text-anchor=\"middle\" x=\"374.75\" y=\"-268.45\" font-family=\"Helvetica,sans-Serif\" font-size=\"14.00\">x1 &lt;= 0.197</text>\n",
       "<text text-anchor=\"middle\" x=\"374.75\" y=\"-251.2\" font-family=\"Helvetica,sans-Serif\" font-size=\"14.00\">squared_error = 0.098</text>\n",
       "<text text-anchor=\"middle\" x=\"374.75\" y=\"-233.95\" font-family=\"Helvetica,sans-Serif\" font-size=\"14.00\">samples = 200</text>\n",
       "<text text-anchor=\"middle\" x=\"374.75\" y=\"-216.7\" font-family=\"Helvetica,sans-Serif\" font-size=\"14.00\">value = 0.354</text>\n",
       "</g>\n",
       "<!-- 1 -->\n",
       "<g id=\"node2\" class=\"node\">\n",
       "<title>1</title>\n",
       "<path fill=\"#eb9d65\" stroke=\"black\" d=\"M353.5,-172.75C353.5,-172.75 204,-172.75 204,-172.75 198,-172.75 192,-166.75 192,-160.75 192,-160.75 192,-107.75 192,-107.75 192,-101.75 198,-95.75 204,-95.75 204,-95.75 353.5,-95.75 353.5,-95.75 359.5,-95.75 365.5,-101.75 365.5,-107.75 365.5,-107.75 365.5,-160.75 365.5,-160.75 365.5,-166.75 359.5,-172.75 353.5,-172.75\"/>\n",
       "<text text-anchor=\"middle\" x=\"278.75\" y=\"-155.45\" font-family=\"Helvetica,sans-Serif\" font-size=\"14.00\">x1 &lt;= 0.092</text>\n",
       "<text text-anchor=\"middle\" x=\"278.75\" y=\"-138.2\" font-family=\"Helvetica,sans-Serif\" font-size=\"14.00\">squared_error = 0.038</text>\n",
       "<text text-anchor=\"middle\" x=\"278.75\" y=\"-120.95\" font-family=\"Helvetica,sans-Serif\" font-size=\"14.00\">samples = 44</text>\n",
       "<text text-anchor=\"middle\" x=\"278.75\" y=\"-103.7\" font-family=\"Helvetica,sans-Serif\" font-size=\"14.00\">value = 0.689</text>\n",
       "</g>\n",
       "<!-- 0&#45;&gt;1 -->\n",
       "<g id=\"edge1\" class=\"edge\">\n",
       "<title>0&#45;&gt;1</title>\n",
       "<path fill=\"none\" stroke=\"black\" d=\"M341.98,-208.36C334.49,-199.7 326.45,-190.4 318.69,-181.43\"/>\n",
       "<polygon fill=\"black\" stroke=\"black\" points=\"321.55,-179.39 312.36,-174.11 316.26,-183.97 321.55,-179.39\"/>\n",
       "<text text-anchor=\"middle\" x=\"309.56\" y=\"-193.23\" font-family=\"Helvetica,sans-Serif\" font-size=\"14.00\">True</text>\n",
       "</g>\n",
       "<!-- 4 -->\n",
       "<g id=\"node5\" class=\"node\">\n",
       "<title>4</title>\n",
       "<path fill=\"#fae6d7\" stroke=\"black\" d=\"M545.5,-172.75C545.5,-172.75 396,-172.75 396,-172.75 390,-172.75 384,-166.75 384,-160.75 384,-160.75 384,-107.75 384,-107.75 384,-101.75 390,-95.75 396,-95.75 396,-95.75 545.5,-95.75 545.5,-95.75 551.5,-95.75 557.5,-101.75 557.5,-107.75 557.5,-107.75 557.5,-160.75 557.5,-160.75 557.5,-166.75 551.5,-172.75 545.5,-172.75\"/>\n",
       "<text text-anchor=\"middle\" x=\"470.75\" y=\"-155.45\" font-family=\"Helvetica,sans-Serif\" font-size=\"14.00\">x1 &lt;= 0.772</text>\n",
       "<text text-anchor=\"middle\" x=\"470.75\" y=\"-138.2\" font-family=\"Helvetica,sans-Serif\" font-size=\"14.00\">squared_error = 0.074</text>\n",
       "<text text-anchor=\"middle\" x=\"470.75\" y=\"-120.95\" font-family=\"Helvetica,sans-Serif\" font-size=\"14.00\">samples = 156</text>\n",
       "<text text-anchor=\"middle\" x=\"470.75\" y=\"-103.7\" font-family=\"Helvetica,sans-Serif\" font-size=\"14.00\">value = 0.259</text>\n",
       "</g>\n",
       "<!-- 0&#45;&gt;4 -->\n",
       "<g id=\"edge4\" class=\"edge\">\n",
       "<title>0&#45;&gt;4</title>\n",
       "<path fill=\"none\" stroke=\"black\" d=\"M407.52,-208.36C415.01,-199.7 423.05,-190.4 430.81,-181.43\"/>\n",
       "<polygon fill=\"black\" stroke=\"black\" points=\"433.24,-183.97 437.14,-174.11 427.95,-179.39 433.24,-183.97\"/>\n",
       "<text text-anchor=\"middle\" x=\"439.94\" y=\"-193.23\" font-family=\"Helvetica,sans-Serif\" font-size=\"14.00\">False</text>\n",
       "</g>\n",
       "<!-- 2 -->\n",
       "<g id=\"node3\" class=\"node\">\n",
       "<title>2</title>\n",
       "<path fill=\"#e58139\" stroke=\"black\" d=\"M161.5,-59.75C161.5,-59.75 12,-59.75 12,-59.75 6,-59.75 0,-53.75 0,-47.75 0,-47.75 0,-12 0,-12 0,-6 6,0 12,0 12,0 161.5,0 161.5,0 167.5,0 173.5,-6 173.5,-12 173.5,-12 173.5,-47.75 173.5,-47.75 173.5,-53.75 167.5,-59.75 161.5,-59.75\"/>\n",
       "<text text-anchor=\"middle\" x=\"86.75\" y=\"-42.45\" font-family=\"Helvetica,sans-Serif\" font-size=\"14.00\">squared_error = 0.018</text>\n",
       "<text text-anchor=\"middle\" x=\"86.75\" y=\"-25.2\" font-family=\"Helvetica,sans-Serif\" font-size=\"14.00\">samples = 20</text>\n",
       "<text text-anchor=\"middle\" x=\"86.75\" y=\"-7.95\" font-family=\"Helvetica,sans-Serif\" font-size=\"14.00\">value = 0.854</text>\n",
       "</g>\n",
       "<!-- 1&#45;&gt;2 -->\n",
       "<g id=\"edge2\" class=\"edge\">\n",
       "<title>1&#45;&gt;2</title>\n",
       "<path fill=\"none\" stroke=\"black\" d=\"M207.53,-95.27C189.24,-85.53 169.67,-75.09 151.72,-65.52\"/>\n",
       "<polygon fill=\"black\" stroke=\"black\" points=\"153.46,-62.48 142.99,-60.86 150.16,-68.65 153.46,-62.48\"/>\n",
       "</g>\n",
       "<!-- 3 -->\n",
       "<g id=\"node4\" class=\"node\">\n",
       "<title>3</title>\n",
       "<path fill=\"#f0b489\" stroke=\"black\" d=\"M353.5,-59.75C353.5,-59.75 204,-59.75 204,-59.75 198,-59.75 192,-53.75 192,-47.75 192,-47.75 192,-12 192,-12 192,-6 198,0 204,0 204,0 353.5,0 353.5,0 359.5,0 365.5,-6 365.5,-12 365.5,-12 365.5,-47.75 365.5,-47.75 365.5,-53.75 359.5,-59.75 353.5,-59.75\"/>\n",
       "<text text-anchor=\"middle\" x=\"278.75\" y=\"-42.45\" font-family=\"Helvetica,sans-Serif\" font-size=\"14.00\">squared_error = 0.013</text>\n",
       "<text text-anchor=\"middle\" x=\"278.75\" y=\"-25.2\" font-family=\"Helvetica,sans-Serif\" font-size=\"14.00\">samples = 24</text>\n",
       "<text text-anchor=\"middle\" x=\"278.75\" y=\"-7.95\" font-family=\"Helvetica,sans-Serif\" font-size=\"14.00\">value = 0.552</text>\n",
       "</g>\n",
       "<!-- 1&#45;&gt;3 -->\n",
       "<g id=\"edge3\" class=\"edge\">\n",
       "<title>1&#45;&gt;3</title>\n",
       "<path fill=\"none\" stroke=\"black\" d=\"M278.75,-95.42C278.75,-87.7 278.75,-79.55 278.75,-71.74\"/>\n",
       "<polygon fill=\"black\" stroke=\"black\" points=\"282.25,-71.74 278.75,-61.74 275.25,-71.74 282.25,-71.74\"/>\n",
       "</g>\n",
       "<!-- 5 -->\n",
       "<g id=\"node6\" class=\"node\">\n",
       "<title>5</title>\n",
       "<path fill=\"#ffffff\" stroke=\"black\" d=\"M545.5,-59.75C545.5,-59.75 396,-59.75 396,-59.75 390,-59.75 384,-53.75 384,-47.75 384,-47.75 384,-12 384,-12 384,-6 390,0 396,0 396,0 545.5,0 545.5,0 551.5,0 557.5,-6 557.5,-12 557.5,-12 557.5,-47.75 557.5,-47.75 557.5,-53.75 551.5,-59.75 545.5,-59.75\"/>\n",
       "<text text-anchor=\"middle\" x=\"470.75\" y=\"-42.45\" font-family=\"Helvetica,sans-Serif\" font-size=\"14.00\">squared_error = 0.015</text>\n",
       "<text text-anchor=\"middle\" x=\"470.75\" y=\"-25.2\" font-family=\"Helvetica,sans-Serif\" font-size=\"14.00\">samples = 110</text>\n",
       "<text text-anchor=\"middle\" x=\"470.75\" y=\"-7.95\" font-family=\"Helvetica,sans-Serif\" font-size=\"14.00\">value = 0.111</text>\n",
       "</g>\n",
       "<!-- 4&#45;&gt;5 -->\n",
       "<g id=\"edge5\" class=\"edge\">\n",
       "<title>4&#45;&gt;5</title>\n",
       "<path fill=\"none\" stroke=\"black\" d=\"M470.75,-95.42C470.75,-87.7 470.75,-79.55 470.75,-71.74\"/>\n",
       "<polygon fill=\"black\" stroke=\"black\" points=\"474.25,-71.74 470.75,-61.74 467.25,-71.74 474.25,-71.74\"/>\n",
       "</g>\n",
       "<!-- 6 -->\n",
       "<g id=\"node7\" class=\"node\">\n",
       "<title>6</title>\n",
       "<path fill=\"#edaa79\" stroke=\"black\" d=\"M737.5,-59.75C737.5,-59.75 588,-59.75 588,-59.75 582,-59.75 576,-53.75 576,-47.75 576,-47.75 576,-12 576,-12 576,-6 582,0 588,0 588,0 737.5,0 737.5,0 743.5,0 749.5,-6 749.5,-12 749.5,-12 749.5,-47.75 749.5,-47.75 749.5,-53.75 743.5,-59.75 737.5,-59.75\"/>\n",
       "<text text-anchor=\"middle\" x=\"662.75\" y=\"-42.45\" font-family=\"Helvetica,sans-Serif\" font-size=\"14.00\">squared_error = 0.036</text>\n",
       "<text text-anchor=\"middle\" x=\"662.75\" y=\"-25.2\" font-family=\"Helvetica,sans-Serif\" font-size=\"14.00\">samples = 46</text>\n",
       "<text text-anchor=\"middle\" x=\"662.75\" y=\"-7.95\" font-family=\"Helvetica,sans-Serif\" font-size=\"14.00\">value = 0.615</text>\n",
       "</g>\n",
       "<!-- 4&#45;&gt;6 -->\n",
       "<g id=\"edge6\" class=\"edge\">\n",
       "<title>4&#45;&gt;6</title>\n",
       "<path fill=\"none\" stroke=\"black\" d=\"M541.97,-95.27C560.26,-85.53 579.83,-75.09 597.78,-65.52\"/>\n",
       "<polygon fill=\"black\" stroke=\"black\" points=\"599.34,-68.65 606.51,-60.86 596.04,-62.48 599.34,-68.65\"/>\n",
       "</g>\n",
       "</g>\n",
       "</svg>\n"
      ],
      "text/plain": [
       "<graphviz.sources.Source at 0x7c090de9feb0>"
      ]
     },
     "execution_count": 6,
     "metadata": {},
     "output_type": "execute_result"
    }
   ],
   "source": [
    "export_graphviz(\n",
    "        tree_reg,\n",
    "        out_file=os.path.join(\"regression_tree.dot\"),\n",
    "        feature_names=[\"x1\"],\n",
    "        rounded=True,\n",
    "        filled=True\n",
    "    )\n",
    "Source.from_file(\"regression_tree.dot\")"
   ]
  },
  {
   "cell_type": "code",
   "execution_count": 7,
   "id": "ece8d986",
   "metadata": {
    "execution": {
     "iopub.execute_input": "2024-09-22T23:21:16.545543Z",
     "iopub.status.busy": "2024-09-22T23:21:16.545162Z",
     "iopub.status.idle": "2024-09-22T23:21:16.552793Z",
     "shell.execute_reply": "2024-09-22T23:21:16.551625Z"
    },
    "papermill": {
     "duration": 0.015063,
     "end_time": "2024-09-22T23:21:16.554990",
     "exception": false,
     "start_time": "2024-09-22T23:21:16.539927",
     "status": "completed"
    },
    "tags": []
   },
   "outputs": [
    {
     "data": {
      "text/plain": [
       "array([0.11063973])"
      ]
     },
     "execution_count": 7,
     "metadata": {},
     "output_type": "execute_result"
    }
   ],
   "source": [
    "tree_reg.predict([[0.4]])"
   ]
  },
  {
   "cell_type": "code",
   "execution_count": null,
   "id": "22867408",
   "metadata": {
    "papermill": {
     "duration": 0.003594,
     "end_time": "2024-09-22T23:21:16.562641",
     "exception": false,
     "start_time": "2024-09-22T23:21:16.559047",
     "status": "completed"
    },
    "tags": []
   },
   "outputs": [],
   "source": []
  }
 ],
 "metadata": {
  "kaggle": {
   "accelerator": "none",
   "dataSources": [],
   "dockerImageVersionId": 30761,
   "isGpuEnabled": false,
   "isInternetEnabled": true,
   "language": "python",
   "sourceType": "notebook"
  },
  "kernelspec": {
   "display_name": "Python 3",
   "language": "python",
   "name": "python3"
  },
  "language_info": {
   "codemirror_mode": {
    "name": "ipython",
    "version": 3
   },
   "file_extension": ".py",
   "mimetype": "text/x-python",
   "name": "python",
   "nbconvert_exporter": "python",
   "pygments_lexer": "ipython3",
   "version": "3.10.14"
  },
  "papermill": {
   "default_parameters": {},
   "duration": 5.831162,
   "end_time": "2024-09-22T23:21:17.187933",
   "environment_variables": {},
   "exception": null,
   "input_path": "__notebook__.ipynb",
   "output_path": "__notebook__.ipynb",
   "parameters": {},
   "start_time": "2024-09-22T23:21:11.356771",
   "version": "2.6.0"
  }
 },
 "nbformat": 4,
 "nbformat_minor": 5
}
